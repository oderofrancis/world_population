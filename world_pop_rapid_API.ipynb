{
  "nbformat": 4,
  "nbformat_minor": 0,
  "metadata": {
    "colab": {
      "provenance": [],
      "mount_file_id": "1SDkKq4wASI-R24avt6qMwtVcNaBPTG3j",
      "authorship_tag": "ABX9TyM3iqcHmAUkCYd+q3d/aAxr",
      "include_colab_link": true
    },
    "kernelspec": {
      "name": "python3",
      "display_name": "Python 3"
    },
    "language_info": {
      "name": "python"
    }
  },
  "cells": [
    {
      "cell_type": "markdown",
      "metadata": {
        "id": "view-in-github",
        "colab_type": "text"
      },
      "source": [
        "<a href=\"https://colab.research.google.com/github/oderofrancis/world_population/blob/main/world_pop_rapid_API.ipynb\" target=\"_parent\"><img src=\"https://colab.research.google.com/assets/colab-badge.svg\" alt=\"Open In Colab\"/></a>"
      ]
    },
    {
      "cell_type": "code",
      "execution_count": 3,
      "metadata": {
        "id": "vfajzeYlRWh7"
      },
      "outputs": [],
      "source": [
        "import requests"
      ]
    },
    {
      "cell_type": "code",
      "source": [
        "url = \"https://get-population.p.rapidapi.com/population/country\""
      ],
      "metadata": {
        "id": "j4QLzX9eUlfx"
      },
      "execution_count": 4,
      "outputs": []
    },
    {
      "cell_type": "code",
      "source": [
        "querystring = {\"country\":\"Egypt\"}\n",
        "\n",
        "headers = {\n",
        "\t\"X-RapidAPI-Key\": \"45a3d60465msh753a8b57d5b648ap14d481jsn19579a43f3ba\",\n",
        "\t\"X-RapidAPI-Host\": \"get-population.p.rapidapi.com\"\n",
        "}"
      ],
      "metadata": {
        "id": "NJCJmBcOUnTJ"
      },
      "execution_count": 7,
      "outputs": []
    },
    {
      "cell_type": "code",
      "source": [
        "response = requests.request(\"GET\", url, headers=headers, params=querystring)\n",
        "\n",
        "print(response.text)"
      ],
      "metadata": {
        "colab": {
          "base_uri": "https://localhost:8080/"
        },
        "id": "zsrxg4JlUqdQ",
        "outputId": "747190ce-c4f8-4778-a27c-6f25243f9e2e"
      },
      "execution_count": 8,
      "outputs": [
        {
          "output_type": "stream",
          "name": "stdout",
          "text": [
            "{\"count\":102224193,\"readable_format\":\"102,224,193\",\"country\":\"Egypt\"}\n"
          ]
        }
      ]
    },
    {
      "cell_type": "code",
      "source": [],
      "metadata": {
        "id": "Lz7eJV-jUq-7"
      },
      "execution_count": null,
      "outputs": []
    }
  ]
}