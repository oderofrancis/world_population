{
  "nbformat": 4,
  "nbformat_minor": 0,
  "metadata": {
    "colab": {
      "provenance": [],
      "authorship_tag": "ABX9TyNcx7NavrpMK8BkdEzwDC0Y",
      "include_colab_link": true
    },
    "kernelspec": {
      "name": "python3",
      "display_name": "Python 3"
    },
    "language_info": {
      "name": "python"
    }
  },
  "cells": [
    {
      "cell_type": "markdown",
      "metadata": {
        "id": "view-in-github",
        "colab_type": "text"
      },
      "source": [
        "<a href=\"https://colab.research.google.com/github/oderofrancis/world_population/blob/main/world_population_scrap.ipynb\" target=\"_parent\"><img src=\"https://colab.research.google.com/assets/colab-badge.svg\" alt=\"Open In Colab\"/></a>"
      ]
    },
    {
      "cell_type": "markdown",
      "source": [
        "# **World Popolation scrapping using BeautifulSoup**"
      ],
      "metadata": {
        "id": "f8zf2NfJQAXm"
      }
    },
    {
      "cell_type": "markdown",
      "source": [
        "Importing librabries"
      ],
      "metadata": {
        "id": "jSIV4dpCQKnw"
      }
    },
    {
      "cell_type": "code",
      "execution_count": 1,
      "metadata": {
        "id": "u5RkpK7cPfj-"
      },
      "outputs": [],
      "source": [
        "import requests\n",
        "\n",
        "from bs4 import BeautifulSoup\n",
        "\n",
        "import pandas as pd"
      ]
    },
    {
      "cell_type": "markdown",
      "source": [
        "## **Get real time data**"
      ],
      "metadata": {
        "id": "KqRs_wfaRn8x"
      }
    },
    {
      "cell_type": "markdown",
      "source": [
        "Get url from world population worldmeter"
      ],
      "metadata": {
        "id": "060gc_AqQRI4"
      }
    },
    {
      "cell_type": "code",
      "source": [
        "# real time data for population\n",
        "\n",
        "url = 'https://www.worldometers.info/world-population/'\n",
        "\n",
        "page = requests.get(url)"
      ],
      "metadata": {
        "id": "7lXPO9UaPiaW"
      },
      "execution_count": 4,
      "outputs": []
    },
    {
      "cell_type": "code",
      "source": [
        "soup = BeautifulSoup(page.text, 'lxml')\n",
        "\n",
        "# print(soup)\n"
      ],
      "metadata": {
        "id": "SyyU3ifoRwlN"
      },
      "execution_count": 8,
      "outputs": []
    },
    {
      "cell_type": "code",
      "source": [
        "table_data = soup.find('table', class_ = 'table table-striped table-bordered')\n",
        "\n",
        "headers = []\n",
        "for i in table_data.find_all('th'):\n",
        "    title = i.text\n",
        "    headers.append(title)"
      ],
      "metadata": {
        "id": "A76Pla9QRwiZ"
      },
      "execution_count": 9,
      "outputs": []
    },
    {
      "cell_type": "code",
      "source": [
        "data = pd.DataFrame(columns = headers)\n",
        "\n",
        "print(data)"
      ],
      "metadata": {
        "colab": {
          "base_uri": "https://localhost:8080/"
        },
        "id": "WgNsQUz8RwgG",
        "outputId": "4495618a-eee5-42bf-d65c-7266e01621d5"
      },
      "execution_count": 10,
      "outputs": [
        {
          "output_type": "stream",
          "name": "stdout",
          "text": [
            "Empty DataFrame\n",
            "Columns: [#, Country (or dependency), Population(2020), YearlyChange, NetChange, Density (P/Km²), Land Area (Km²), Migrants(net), Fert.Rate, Med.Age, UrbanPop %, WorldShare]\n",
            "Index: []\n"
          ]
        }
      ]
    },
    {
      "cell_type": "code",
      "source": [
        "for j in table_data.find_all('tr')[1:]:\n",
        "        row_data = j.find_all('td')\n",
        "        row = [tr.text for tr in row_data]\n",
        "        length = len(data)\n",
        "        data.loc[length] = row\n",
        "        \n",
        "print (data)"
      ],
      "metadata": {
        "colab": {
          "base_uri": "https://localhost:8080/"
        },
        "id": "jOS3Z6x0Rwd-",
        "outputId": "5a7ead2e-573b-4e5f-b08c-2f35c68ec696"
      },
      "execution_count": 11,
      "outputs": [
        {
          "output_type": "stream",
          "name": "stdout",
          "text": [
            "       # Country (or dependency) Population(2020) YearlyChange   NetChange  \\\n",
            "0      1                   China    1,439,323,776       0.39 %   5,540,090   \n",
            "1      2                   India    1,380,004,385       0.99 %  13,586,631   \n",
            "2      3           United States      331,002,651       0.59 %   1,937,734   \n",
            "3      4               Indonesia      273,523,615       1.07 %   2,898,047   \n",
            "4      5                Pakistan      220,892,340          2 %   4,327,022   \n",
            "..   ...                     ...              ...          ...         ...   \n",
            "230  231              Montserrat            4,992       0.06 %           3   \n",
            "231  232        Falkland Islands            3,480       3.05 %         103   \n",
            "232  233                    Niue            1,626       0.68 %          11   \n",
            "233  234                 Tokelau            1,357       1.27 %          17   \n",
            "234  235                Holy See              801       0.25 %           2   \n",
            "\n",
            "    Density (P/Km²) Land Area (Km²) Migrants(net) Fert.Rate Med.Age  \\\n",
            "0               153       9,388,211      -348,399      1.69      38   \n",
            "1               464       2,973,190      -532,687    2.2402      28   \n",
            "2                36       9,147,420       954,806    1.7764      38   \n",
            "3               151       1,811,570       -98,955    2.3195      30   \n",
            "4               287         770,880      -233,379      3.55      23   \n",
            "..              ...             ...           ...       ...     ...   \n",
            "230              50             100                    N.A.    N.A.   \n",
            "231               0          12,170                    N.A.    N.A.   \n",
            "232               6             260                    N.A.    N.A.   \n",
            "233             136              10                    N.A.    N.A.   \n",
            "234           2,003               0                    N.A.    N.A.   \n",
            "\n",
            "    UrbanPop % WorldShare  \n",
            "0       60.8 %     18.5 %  \n",
            "1         35 %     17.7 %  \n",
            "2       82.8 %      4.2 %  \n",
            "3       56.4 %      3.5 %  \n",
            "4       35.1 %      2.8 %  \n",
            "..         ...        ...  \n",
            "230      9.6 %        0 %  \n",
            "231       66 %        0 %  \n",
            "232     46.4 %        0 %  \n",
            "233        0 %        0 %  \n",
            "234       N.A.        0 %  \n",
            "\n",
            "[235 rows x 12 columns]\n"
          ]
        }
      ]
    },
    {
      "cell_type": "markdown",
      "source": [
        "## **Get data by country**"
      ],
      "metadata": {
        "id": "xzyENa8BRib3"
      }
    },
    {
      "cell_type": "code",
      "source": [
        "url_data = 'https://www.worldometers.info/world-population/population-by-country'\n",
        "\n",
        "r = requests.get(url_data)\n",
        "\n",
        "soup = BeautifulSoup(r.content)"
      ],
      "metadata": {
        "id": "FET_G6HYPu7k"
      },
      "execution_count": 29,
      "outputs": []
    },
    {
      "cell_type": "code",
      "source": [
        "countries = soup.find_all(\"table\")[0]\n",
        "\n",
        "df = pd.read_html(str(countries))[0]"
      ],
      "metadata": {
        "id": "dr8Bq2ceVnrQ"
      },
      "execution_count": 34,
      "outputs": []
    },
    {
      "cell_type": "code",
      "source": [
        "df"
      ],
      "metadata": {
        "colab": {
          "base_uri": "https://localhost:8080/",
          "height": 485
        },
        "id": "RdG1uy_MVuhq",
        "outputId": "5a43ac3b-12b0-496c-b3aa-705c906f8946"
      },
      "execution_count": 38,
      "outputs": [
        {
          "output_type": "execute_result",
          "data": {
            "text/plain": [
              "       # Country (or dependency)  Population (2020) Yearly Change  Net Change  \\\n",
              "0      1                   China         1439323776        0.39 %     5540090   \n",
              "1      2                   India         1380004385        0.99 %    13586631   \n",
              "2      3           United States          331002651        0.59 %     1937734   \n",
              "3      4               Indonesia          273523615        1.07 %     2898047   \n",
              "4      5                Pakistan          220892340        2.00 %     4327022   \n",
              "..   ...                     ...                ...           ...         ...   \n",
              "230  231              Montserrat               4992        0.06 %           3   \n",
              "231  232        Falkland Islands               3480        3.05 %         103   \n",
              "232  233                    Niue               1626        0.68 %          11   \n",
              "233  234                 Tokelau               1357        1.27 %          17   \n",
              "234  235                Holy See                801        0.25 %           2   \n",
              "\n",
              "     Density (P/Km²)  Land Area (Km²)  Migrants (net) Fert. Rate Med. Age  \\\n",
              "0                153          9388211       -348399.0        1.7       38   \n",
              "1                464          2973190       -532687.0        2.2       28   \n",
              "2                 36          9147420        954806.0        1.8       38   \n",
              "3                151          1811570        -98955.0        2.3       30   \n",
              "4                287           770880       -233379.0        3.6       23   \n",
              "..               ...              ...             ...        ...      ...   \n",
              "230               50              100             NaN       N.A.     N.A.   \n",
              "231                0            12170             NaN       N.A.     N.A.   \n",
              "232                6              260             NaN       N.A.     N.A.   \n",
              "233              136               10             NaN       N.A.     N.A.   \n",
              "234             2003                0             NaN       N.A.     N.A.   \n",
              "\n",
              "    Urban Pop % World Share  \n",
              "0          61 %     18.47 %  \n",
              "1          35 %     17.70 %  \n",
              "2          83 %      4.25 %  \n",
              "3          56 %      3.51 %  \n",
              "4          35 %      2.83 %  \n",
              "..          ...         ...  \n",
              "230        10 %      0.00 %  \n",
              "231        66 %      0.00 %  \n",
              "232        46 %      0.00 %  \n",
              "233         0 %      0.00 %  \n",
              "234        N.A.      0.00 %  \n",
              "\n",
              "[235 rows x 12 columns]"
            ],
            "text/html": [
              "\n",
              "  <div id=\"df-c4ae75ac-7a39-4d8e-a5c1-920430c8e34a\">\n",
              "    <div class=\"colab-df-container\">\n",
              "      <div>\n",
              "<style scoped>\n",
              "    .dataframe tbody tr th:only-of-type {\n",
              "        vertical-align: middle;\n",
              "    }\n",
              "\n",
              "    .dataframe tbody tr th {\n",
              "        vertical-align: top;\n",
              "    }\n",
              "\n",
              "    .dataframe thead th {\n",
              "        text-align: right;\n",
              "    }\n",
              "</style>\n",
              "<table border=\"1\" class=\"dataframe\">\n",
              "  <thead>\n",
              "    <tr style=\"text-align: right;\">\n",
              "      <th></th>\n",
              "      <th>#</th>\n",
              "      <th>Country (or dependency)</th>\n",
              "      <th>Population (2020)</th>\n",
              "      <th>Yearly Change</th>\n",
              "      <th>Net Change</th>\n",
              "      <th>Density (P/Km²)</th>\n",
              "      <th>Land Area (Km²)</th>\n",
              "      <th>Migrants (net)</th>\n",
              "      <th>Fert. Rate</th>\n",
              "      <th>Med. Age</th>\n",
              "      <th>Urban Pop %</th>\n",
              "      <th>World Share</th>\n",
              "    </tr>\n",
              "  </thead>\n",
              "  <tbody>\n",
              "    <tr>\n",
              "      <th>0</th>\n",
              "      <td>1</td>\n",
              "      <td>China</td>\n",
              "      <td>1439323776</td>\n",
              "      <td>0.39 %</td>\n",
              "      <td>5540090</td>\n",
              "      <td>153</td>\n",
              "      <td>9388211</td>\n",
              "      <td>-348399.0</td>\n",
              "      <td>1.7</td>\n",
              "      <td>38</td>\n",
              "      <td>61 %</td>\n",
              "      <td>18.47 %</td>\n",
              "    </tr>\n",
              "    <tr>\n",
              "      <th>1</th>\n",
              "      <td>2</td>\n",
              "      <td>India</td>\n",
              "      <td>1380004385</td>\n",
              "      <td>0.99 %</td>\n",
              "      <td>13586631</td>\n",
              "      <td>464</td>\n",
              "      <td>2973190</td>\n",
              "      <td>-532687.0</td>\n",
              "      <td>2.2</td>\n",
              "      <td>28</td>\n",
              "      <td>35 %</td>\n",
              "      <td>17.70 %</td>\n",
              "    </tr>\n",
              "    <tr>\n",
              "      <th>2</th>\n",
              "      <td>3</td>\n",
              "      <td>United States</td>\n",
              "      <td>331002651</td>\n",
              "      <td>0.59 %</td>\n",
              "      <td>1937734</td>\n",
              "      <td>36</td>\n",
              "      <td>9147420</td>\n",
              "      <td>954806.0</td>\n",
              "      <td>1.8</td>\n",
              "      <td>38</td>\n",
              "      <td>83 %</td>\n",
              "      <td>4.25 %</td>\n",
              "    </tr>\n",
              "    <tr>\n",
              "      <th>3</th>\n",
              "      <td>4</td>\n",
              "      <td>Indonesia</td>\n",
              "      <td>273523615</td>\n",
              "      <td>1.07 %</td>\n",
              "      <td>2898047</td>\n",
              "      <td>151</td>\n",
              "      <td>1811570</td>\n",
              "      <td>-98955.0</td>\n",
              "      <td>2.3</td>\n",
              "      <td>30</td>\n",
              "      <td>56 %</td>\n",
              "      <td>3.51 %</td>\n",
              "    </tr>\n",
              "    <tr>\n",
              "      <th>4</th>\n",
              "      <td>5</td>\n",
              "      <td>Pakistan</td>\n",
              "      <td>220892340</td>\n",
              "      <td>2.00 %</td>\n",
              "      <td>4327022</td>\n",
              "      <td>287</td>\n",
              "      <td>770880</td>\n",
              "      <td>-233379.0</td>\n",
              "      <td>3.6</td>\n",
              "      <td>23</td>\n",
              "      <td>35 %</td>\n",
              "      <td>2.83 %</td>\n",
              "    </tr>\n",
              "    <tr>\n",
              "      <th>...</th>\n",
              "      <td>...</td>\n",
              "      <td>...</td>\n",
              "      <td>...</td>\n",
              "      <td>...</td>\n",
              "      <td>...</td>\n",
              "      <td>...</td>\n",
              "      <td>...</td>\n",
              "      <td>...</td>\n",
              "      <td>...</td>\n",
              "      <td>...</td>\n",
              "      <td>...</td>\n",
              "      <td>...</td>\n",
              "    </tr>\n",
              "    <tr>\n",
              "      <th>230</th>\n",
              "      <td>231</td>\n",
              "      <td>Montserrat</td>\n",
              "      <td>4992</td>\n",
              "      <td>0.06 %</td>\n",
              "      <td>3</td>\n",
              "      <td>50</td>\n",
              "      <td>100</td>\n",
              "      <td>NaN</td>\n",
              "      <td>N.A.</td>\n",
              "      <td>N.A.</td>\n",
              "      <td>10 %</td>\n",
              "      <td>0.00 %</td>\n",
              "    </tr>\n",
              "    <tr>\n",
              "      <th>231</th>\n",
              "      <td>232</td>\n",
              "      <td>Falkland Islands</td>\n",
              "      <td>3480</td>\n",
              "      <td>3.05 %</td>\n",
              "      <td>103</td>\n",
              "      <td>0</td>\n",
              "      <td>12170</td>\n",
              "      <td>NaN</td>\n",
              "      <td>N.A.</td>\n",
              "      <td>N.A.</td>\n",
              "      <td>66 %</td>\n",
              "      <td>0.00 %</td>\n",
              "    </tr>\n",
              "    <tr>\n",
              "      <th>232</th>\n",
              "      <td>233</td>\n",
              "      <td>Niue</td>\n",
              "      <td>1626</td>\n",
              "      <td>0.68 %</td>\n",
              "      <td>11</td>\n",
              "      <td>6</td>\n",
              "      <td>260</td>\n",
              "      <td>NaN</td>\n",
              "      <td>N.A.</td>\n",
              "      <td>N.A.</td>\n",
              "      <td>46 %</td>\n",
              "      <td>0.00 %</td>\n",
              "    </tr>\n",
              "    <tr>\n",
              "      <th>233</th>\n",
              "      <td>234</td>\n",
              "      <td>Tokelau</td>\n",
              "      <td>1357</td>\n",
              "      <td>1.27 %</td>\n",
              "      <td>17</td>\n",
              "      <td>136</td>\n",
              "      <td>10</td>\n",
              "      <td>NaN</td>\n",
              "      <td>N.A.</td>\n",
              "      <td>N.A.</td>\n",
              "      <td>0 %</td>\n",
              "      <td>0.00 %</td>\n",
              "    </tr>\n",
              "    <tr>\n",
              "      <th>234</th>\n",
              "      <td>235</td>\n",
              "      <td>Holy See</td>\n",
              "      <td>801</td>\n",
              "      <td>0.25 %</td>\n",
              "      <td>2</td>\n",
              "      <td>2003</td>\n",
              "      <td>0</td>\n",
              "      <td>NaN</td>\n",
              "      <td>N.A.</td>\n",
              "      <td>N.A.</td>\n",
              "      <td>N.A.</td>\n",
              "      <td>0.00 %</td>\n",
              "    </tr>\n",
              "  </tbody>\n",
              "</table>\n",
              "<p>235 rows × 12 columns</p>\n",
              "</div>\n",
              "      <button class=\"colab-df-convert\" onclick=\"convertToInteractive('df-c4ae75ac-7a39-4d8e-a5c1-920430c8e34a')\"\n",
              "              title=\"Convert this dataframe to an interactive table.\"\n",
              "              style=\"display:none;\">\n",
              "        \n",
              "  <svg xmlns=\"http://www.w3.org/2000/svg\" height=\"24px\"viewBox=\"0 0 24 24\"\n",
              "       width=\"24px\">\n",
              "    <path d=\"M0 0h24v24H0V0z\" fill=\"none\"/>\n",
              "    <path d=\"M18.56 5.44l.94 2.06.94-2.06 2.06-.94-2.06-.94-.94-2.06-.94 2.06-2.06.94zm-11 1L8.5 8.5l.94-2.06 2.06-.94-2.06-.94L8.5 2.5l-.94 2.06-2.06.94zm10 10l.94 2.06.94-2.06 2.06-.94-2.06-.94-.94-2.06-.94 2.06-2.06.94z\"/><path d=\"M17.41 7.96l-1.37-1.37c-.4-.4-.92-.59-1.43-.59-.52 0-1.04.2-1.43.59L10.3 9.45l-7.72 7.72c-.78.78-.78 2.05 0 2.83L4 21.41c.39.39.9.59 1.41.59.51 0 1.02-.2 1.41-.59l7.78-7.78 2.81-2.81c.8-.78.8-2.07 0-2.86zM5.41 20L4 18.59l7.72-7.72 1.47 1.35L5.41 20z\"/>\n",
              "  </svg>\n",
              "      </button>\n",
              "      \n",
              "  <style>\n",
              "    .colab-df-container {\n",
              "      display:flex;\n",
              "      flex-wrap:wrap;\n",
              "      gap: 12px;\n",
              "    }\n",
              "\n",
              "    .colab-df-convert {\n",
              "      background-color: #E8F0FE;\n",
              "      border: none;\n",
              "      border-radius: 50%;\n",
              "      cursor: pointer;\n",
              "      display: none;\n",
              "      fill: #1967D2;\n",
              "      height: 32px;\n",
              "      padding: 0 0 0 0;\n",
              "      width: 32px;\n",
              "    }\n",
              "\n",
              "    .colab-df-convert:hover {\n",
              "      background-color: #E2EBFA;\n",
              "      box-shadow: 0px 1px 2px rgba(60, 64, 67, 0.3), 0px 1px 3px 1px rgba(60, 64, 67, 0.15);\n",
              "      fill: #174EA6;\n",
              "    }\n",
              "\n",
              "    [theme=dark] .colab-df-convert {\n",
              "      background-color: #3B4455;\n",
              "      fill: #D2E3FC;\n",
              "    }\n",
              "\n",
              "    [theme=dark] .colab-df-convert:hover {\n",
              "      background-color: #434B5C;\n",
              "      box-shadow: 0px 1px 3px 1px rgba(0, 0, 0, 0.15);\n",
              "      filter: drop-shadow(0px 1px 2px rgba(0, 0, 0, 0.3));\n",
              "      fill: #FFFFFF;\n",
              "    }\n",
              "  </style>\n",
              "\n",
              "      <script>\n",
              "        const buttonEl =\n",
              "          document.querySelector('#df-c4ae75ac-7a39-4d8e-a5c1-920430c8e34a button.colab-df-convert');\n",
              "        buttonEl.style.display =\n",
              "          google.colab.kernel.accessAllowed ? 'block' : 'none';\n",
              "\n",
              "        async function convertToInteractive(key) {\n",
              "          const element = document.querySelector('#df-c4ae75ac-7a39-4d8e-a5c1-920430c8e34a');\n",
              "          const dataTable =\n",
              "            await google.colab.kernel.invokeFunction('convertToInteractive',\n",
              "                                                     [key], {});\n",
              "          if (!dataTable) return;\n",
              "\n",
              "          const docLinkHtml = 'Like what you see? Visit the ' +\n",
              "            '<a target=\"_blank\" href=https://colab.research.google.com/notebooks/data_table.ipynb>data table notebook</a>'\n",
              "            + ' to learn more about interactive tables.';\n",
              "          element.innerHTML = '';\n",
              "          dataTable['output_type'] = 'display_data';\n",
              "          await google.colab.output.renderOutput(dataTable, element);\n",
              "          const docLink = document.createElement('div');\n",
              "          docLink.innerHTML = docLinkHtml;\n",
              "          element.appendChild(docLink);\n",
              "        }\n",
              "      </script>\n",
              "    </div>\n",
              "  </div>\n",
              "  "
            ]
          },
          "metadata": {},
          "execution_count": 38
        }
      ]
    },
    {
      "cell_type": "code",
      "source": [],
      "metadata": {
        "id": "R_XrD9nBWU-c"
      },
      "execution_count": null,
      "outputs": []
    }
  ]
}